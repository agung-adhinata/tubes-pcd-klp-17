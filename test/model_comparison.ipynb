{
 "cells": [
  {
   "cell_type": "code",
   "execution_count": 1,
   "metadata": {},
   "outputs": [],
   "source": [
    "import numpy as np\n",
    "import pandas as pd\n",
    "import seaborn as sb\n",
    "import os\n",
    "\n",
    "from sklearn.model_selection import train_test_split\n",
    "from sklearn.preprocessing import MinMaxScaler\n",
    "from sklearn.metrics import classification_report\n",
    "from sklearn.metrics import confusion_matrix"
   ]
  },
  {
   "cell_type": "code",
   "execution_count": 2,
   "metadata": {},
   "outputs": [],
   "source": [
    "from sklearn.neural_network import MLPClassifier\n",
    "from sklearn.neighbors import KNeighborsClassifier\n",
    "from sklearn.svm import SVC\n",
    "from sklearn.gaussian_process import GaussianProcessClassifier\n",
    "from sklearn.gaussian_process.kernels import RBF\n",
    "from sklearn.tree import DecisionTreeClassifier\n",
    "from sklearn.ensemble import RandomForestClassifier, AdaBoostClassifier\n",
    "from sklearn.naive_bayes import GaussianNB\n",
    "from sklearn.discriminant_analysis import QuadraticDiscriminantAnalysis\n",
    "\n",
    "names = [\n",
    "    \"Nearest Neighbors\",\n",
    "    \"Decision Tree\",\n",
    "    \"Random Forest\",\n",
    "    \"Neural Network\",\n",
    "    \"Naive Bayes\"\n",
    "]\n",
    "\n",
    "classifiers = [\n",
    "    KNeighborsClassifier(5),\n",
    "    DecisionTreeClassifier(),\n",
    "    RandomForestClassifier(),\n",
    "    MLPClassifier(max_iter=5000),\n",
    "    GaussianNB(),\n",
    "]\n"
   ]
  },
  {
   "cell_type": "code",
   "execution_count": 3,
   "metadata": {},
   "outputs": [],
   "source": [
    "def normalize_dataset(X, min, max):\n",
    "    X_std = (X - X.min(axis=0)) / (X.max(axis=0) - X.min(axis=0))\n",
    "    X_scaled = X_std * (max - min) + min\n",
    "    return X_scaled"
   ]
  },
  {
   "cell_type": "code",
   "execution_count": 4,
   "metadata": {},
   "outputs": [
    {
     "name": "stdout",
     "output_type": "stream",
     "text": [
      "0       0\n",
      "1       0\n",
      "2       0\n",
      "3       0\n",
      "4       0\n",
      "       ..\n",
      "1392    4\n",
      "1393    4\n",
      "1394    4\n",
      "1395    4\n",
      "1396    4\n",
      "Name: label, Length: 1397, dtype: int64\n",
      "1397 1397 1397\n"
     ]
    }
   ],
   "source": [
    "datatrain = pd.read_csv('train_dataset_lib.csv')\n",
    "# datatrain = datatrain.dropna\n",
    "x_train = datatrain.iloc[:,1:-1]\n",
    "y_train = datatrain.iloc[:,0]\n",
    "print(y_train)\n",
    "scaler = MinMaxScaler()\n",
    "x_train_scaled =  scaler.fit_transform(x_train)\n",
    "print(len(x_train_scaled), len(x_train), len(y_train))"
   ]
  },
  {
   "cell_type": "code",
   "execution_count": 5,
   "metadata": {},
   "outputs": [
    {
     "name": "stdout",
     "output_type": "stream",
     "text": [
      "438 438 438\n"
     ]
    }
   ],
   "source": [
    "dataval = pd.read_csv('val_dataset_lib.csv')\n",
    "x_val = dataval.iloc[:, 1:-1]\n",
    "y_val = dataval.iloc[:,0]\n",
    "\n",
    "scaler = MinMaxScaler()\n",
    "x_val_scaled = scaler.fit_transform(x_val)\n",
    "print(len(x_val_scaled), len(x_val), len(y_val))\n"
   ]
  },
  {
   "cell_type": "code",
   "execution_count": 6,
   "metadata": {},
   "outputs": [
    {
     "data": {
      "text/plain": [
       "0       0\n",
       "1       0\n",
       "2       0\n",
       "3       0\n",
       "4       0\n",
       "       ..\n",
       "1392    4\n",
       "1393    4\n",
       "1394    4\n",
       "1395    4\n",
       "1396    4\n",
       "Name: label, Length: 1397, dtype: int64"
      ]
     },
     "execution_count": 6,
     "metadata": {},
     "output_type": "execute_result"
    }
   ],
   "source": [
    "y_train"
   ]
  },
  {
   "cell_type": "code",
   "execution_count": 7,
   "metadata": {},
   "outputs": [
    {
     "data": {
      "text/plain": [
       "0      0\n",
       "1      0\n",
       "2      0\n",
       "3      0\n",
       "4      0\n",
       "      ..\n",
       "433    4\n",
       "434    4\n",
       "435    4\n",
       "436    4\n",
       "437    4\n",
       "Name: label, Length: 438, dtype: int64"
      ]
     },
     "execution_count": 7,
     "metadata": {},
     "output_type": "execute_result"
    }
   ],
   "source": [
    "y_val"
   ]
  },
  {
   "cell_type": "code",
   "execution_count": 9,
   "metadata": {},
   "outputs": [
    {
     "name": "stdout",
     "output_type": "stream",
     "text": [
      "## MODEL NAME : Nearest Neighbors\n",
      "[[86 11  9  3 15]\n",
      " [13 32 13  3  4]\n",
      " [16  7 68  0  6]\n",
      " [ 0  2  0 70  0]\n",
      " [29 17 17  3 14]]\n",
      "              precision    recall  f1-score   support\n",
      "\n",
      "           0       0.60      0.69      0.64       124\n",
      "           1       0.46      0.49      0.48        65\n",
      "           2       0.64      0.70      0.67        97\n",
      "           3       0.89      0.97      0.93        72\n",
      "           4       0.36      0.17      0.24        80\n",
      "\n",
      "    accuracy                           0.62       438\n",
      "   macro avg       0.59      0.61      0.59       438\n",
      "weighted avg       0.59      0.62      0.60       438\n",
      "\n",
      "\n",
      "\n",
      "## MODEL NAME : Decision Tree\n",
      "[[60 27 22  2 13]\n",
      " [16 26  9  5  9]\n",
      " [22 14 39  2 20]\n",
      " [ 1  9  2 51  9]\n",
      " [21 20 10  2 27]]\n",
      "              precision    recall  f1-score   support\n",
      "\n",
      "           0       0.50      0.48      0.49       124\n",
      "           1       0.27      0.40      0.32        65\n",
      "           2       0.48      0.40      0.44        97\n",
      "           3       0.82      0.71      0.76        72\n",
      "           4       0.35      0.34      0.34        80\n",
      "\n",
      "    accuracy                           0.46       438\n",
      "   macro avg       0.48      0.47      0.47       438\n",
      "weighted avg       0.49      0.46      0.47       438\n",
      "\n",
      "\n",
      "\n",
      "## MODEL NAME : Random Forest\n",
      "[[92 10  9  4  9]\n",
      " [15 36  7  5  2]\n",
      " [14  5 73  1  4]\n",
      " [ 0  0  0 70  2]\n",
      " [24 23  6  0 27]]\n",
      "              precision    recall  f1-score   support\n",
      "\n",
      "           0       0.63      0.74      0.68       124\n",
      "           1       0.49      0.55      0.52        65\n",
      "           2       0.77      0.75      0.76        97\n",
      "           3       0.88      0.97      0.92        72\n",
      "           4       0.61      0.34      0.44        80\n",
      "\n",
      "    accuracy                           0.68       438\n",
      "   macro avg       0.68      0.67      0.66       438\n",
      "weighted avg       0.68      0.68      0.67       438\n",
      "\n",
      "\n",
      "\n",
      "## MODEL NAME : Neural Network\n",
      "[[97  2 21  1  3]\n",
      " [20 23 19  3  0]\n",
      " [20  0 76  0  1]\n",
      " [ 1  1  3 66  1]\n",
      " [37  9 25  0  9]]\n",
      "              precision    recall  f1-score   support\n",
      "\n",
      "           0       0.55      0.78      0.65       124\n",
      "           1       0.66      0.35      0.46        65\n",
      "           2       0.53      0.78      0.63        97\n",
      "           3       0.94      0.92      0.93        72\n",
      "           4       0.64      0.11      0.19        80\n",
      "\n",
      "    accuracy                           0.62       438\n",
      "   macro avg       0.66      0.59      0.57       438\n",
      "weighted avg       0.64      0.62      0.58       438\n",
      "\n",
      "\n",
      "\n",
      "## MODEL NAME : Naive Bayes\n",
      "[[64 15 32  8  5]\n",
      " [13 27 16  8  1]\n",
      " [14  4 74  2  3]\n",
      " [ 1 14  0 57  0]\n",
      " [20 21 26  7  6]]\n",
      "              precision    recall  f1-score   support\n",
      "\n",
      "           0       0.57      0.52      0.54       124\n",
      "           1       0.33      0.42      0.37        65\n",
      "           2       0.50      0.76      0.60        97\n",
      "           3       0.70      0.79      0.74        72\n",
      "           4       0.40      0.07      0.13        80\n",
      "\n",
      "    accuracy                           0.52       438\n",
      "   macro avg       0.50      0.51      0.48       438\n",
      "weighted avg       0.51      0.52      0.49       438\n",
      "\n",
      "\n",
      "\n"
     ]
    }
   ],
   "source": [
    "for name, model in zip(names, classifiers):\n",
    "  model.fit(x_train, y_train)\n",
    "  y_pred_model = model.predict(x_val)\n",
    "  print(f'## MODEL NAME : {name}')\n",
    "  print(confusion_matrix(y_val, y_pred_model))\n",
    "  print(classification_report(y_val, y_pred_model,zero_division=0))\n",
    "  print('\\n')"
   ]
  }
 ],
 "metadata": {
  "kernelspec": {
   "display_name": "Python 3.10.2 64-bit",
   "language": "python",
   "name": "python3"
  },
  "language_info": {
   "codemirror_mode": {
    "name": "ipython",
    "version": 3
   },
   "file_extension": ".py",
   "mimetype": "text/x-python",
   "name": "python",
   "nbconvert_exporter": "python",
   "pygments_lexer": "ipython3",
   "version": "3.9.16"
  },
  "orig_nbformat": 4,
  "vscode": {
   "interpreter": {
    "hash": "060178b1a8864f163031094c49bb91179365799070436d7afdd1a3707fe1d5df"
   }
  }
 },
 "nbformat": 4,
 "nbformat_minor": 2
}

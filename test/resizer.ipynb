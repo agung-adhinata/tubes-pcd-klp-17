{
 "cells": [
  {
   "cell_type": "code",
   "execution_count": 7,
   "metadata": {},
   "outputs": [],
   "source": [
    "import numpy as np\n",
    "import matplotlib.pyplot as plt \n",
    "import matplotlib.image as im\n",
    "import pandas as pd\n",
    "import os \n",
    "from pathlib import Path\n",
    "import cv2\n",
    "import threading"
   ]
  },
  {
   "cell_type": "code",
   "execution_count": 29,
   "metadata": {},
   "outputs": [],
   "source": [
    "old_dir = './FishImgDataset'\n",
    "resized_dir = './resized-dataset'\n",
    "\n",
    "labels = ['Glass Perchlet', 'Gold Fish',\n",
    "          'Gourami', 'Jaguar Gapote', 'Mosquito Fish']\n",
    "\n",
    "def setup_dir(labelName):\n",
    "    # Path(resized_dir).mkdir(parents=True,exist_ok=True)\n",
    "    # Path(f\"{resized_dir}/train\").mkdir(parents=True,exist_ok=True)\n",
    "    # Path(f\"{resized_dir}/val\").mkdir(parents=True,exist_ok=True)\n",
    "    Path(f\"{resized_dir}/test/{labelName}\").mkdir(parents=True,exist_ok=True)\n",
    "    Path(f\"{resized_dir}/train/{labelName}\").mkdir(parents=True,exist_ok=True)\n",
    "    Path(f\"{resized_dir}/val/{labelName}\").mkdir(parents=True,exist_ok=True)\n",
    "\n",
    "for label in labels:\n",
    "    setup_dir(label)\n"
   ]
  },
  {
   "cell_type": "code",
   "execution_count": 34,
   "metadata": {},
   "outputs": [],
   "source": [
    "# def importImage(path):\n",
    "#     images = []\n",
    "#     folder_path = path\n",
    "#     nama_files = os.listdir(folder_path)\n",
    "#     i = 0\n",
    "#     for nama_file in nama_files:\n",
    "#         i+=1\n",
    "#         file_path = os.path.join(folder_path, nama_file)\n",
    "#         image = cv2.imread(file_path,cv2.IMREAD_GRAYSCALE)\n",
    "#         images.append(image)\n",
    "#         if i == 200 : break\n",
    "#     return images\n",
    "\n",
    "\n"
   ]
  },
  {
   "cell_type": "code",
   "execution_count": 38,
   "metadata": {},
   "outputs": [],
   "source": [
    "def resizeImage(image):\n",
    "    size = 100\n",
    "    result = cv2.resize(image,(size,size))\n",
    "    return result"
   ]
  },
  {
   "cell_type": "code",
   "execution_count": 39,
   "metadata": {},
   "outputs": [],
   "source": [
    "def prepare_image(labelName,typename):\n",
    "    images = importImages(f\"{old_dir}/{typename}/{labelName}\")\n",
    "    for index, image in enumerate(images):\n",
    "        try:\n",
    "            res = resizeImage(image)\n",
    "            filename = f\"img{index}.png\"\n",
    "            plt.imsave(f\"{resized_dir}/{typename}/{labelName}/{filename}\",res)\n",
    "        except Exception as e:\n",
    "            errs.append(f\"file: {typename}/{labelName}/{filename} , error: {e}\")\n"
   ]
  },
  {
   "cell_type": "code",
   "execution_count": 40,
   "metadata": {},
   "outputs": [
    {
     "name": "stderr",
     "output_type": "stream",
     "text": [
      "100%|██████████| 5/5 [00:08<00:00,  1.71s/it]\n"
     ]
    }
   ],
   "source": [
    "from tqdm import tqdm\n",
    "import threading\n",
    "dirs = os.listdir(f\"{old_dir}/train\")\n",
    "errs = []\n",
    "# prepare_image(labels[0],'train')\n",
    "for label in tqdm(dirs):\n",
    "    t1 = threading.Thread(target=prepare_image,args=(label,'train'))\n",
    "    t2 = threading.Thread(target=prepare_image,args=(label,'val'))\n",
    "    t3 = threading.Thread(target=prepare_image,args=(label,'test'))\n",
    "    t1.start()\n",
    "    t2.start()\n",
    "    t3.start()\n",
    "    t1.join()\n",
    "    t2.join()\n",
    "    t3.join()\n"
   ]
  },
  {
   "cell_type": "code",
   "execution_count": 41,
   "metadata": {},
   "outputs": [
    {
     "name": "stdout",
     "output_type": "stream",
     "text": [
      "[]\n"
     ]
    }
   ],
   "source": [
    "print(errs)"
   ]
  }
 ],
 "metadata": {
  "kernelspec": {
   "display_name": "Python 3",
   "language": "python",
   "name": "python3"
  },
  "language_info": {
   "codemirror_mode": {
    "name": "ipython",
    "version": 3
   },
   "file_extension": ".py",
   "mimetype": "text/x-python",
   "name": "python",
   "nbconvert_exporter": "python",
   "pygments_lexer": "ipython3",
   "version": "3.9.16"
  },
  "orig_nbformat": 4
 },
 "nbformat": 4,
 "nbformat_minor": 2
}
